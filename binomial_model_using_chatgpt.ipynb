{
 "cells": [
  {
   "cell_type": "code",
   "execution_count": 1,
   "id": "b31ad607",
   "metadata": {},
   "outputs": [],
   "source": [
    "import numpy as np"
   ]
  },
  {
   "cell_type": "code",
   "execution_count": 12,
   "id": "f45c3fbe",
   "metadata": {},
   "outputs": [
    {
     "name": "stdout",
     "output_type": "stream",
     "text": [
      "Call Option Price: 12.434665331190143\n"
     ]
    }
   ],
   "source": [
    "\n",
    "def binomial_option_price(S, X, T, r, sigma, n):\n",
    "    \"\"\"\n",
    "    Calculate the price of a European call option using the binomial option pricing model.\n",
    "    \n",
    "    Parameters:\n",
    "        S (float): Current price of the underlying asset\n",
    "        X (float): Strike price of the option\n",
    "        T (float): Time to expiration (in years)\n",
    "        r (float): Risk-free interest rate\n",
    "        sigma (float): Volatility of the underlying asset's returns\n",
    "        n (int): Number of time steps in the binomial tree\n",
    "    \n",
    "    Returns:\n",
    "        float: Price of the European call option\n",
    "    \"\"\"\n",
    "    dt = T / n  # Length of each time step\n",
    "    u = np.exp(sigma * np.sqrt(dt))  # Upward factor\n",
    "    d = 1 / u  # Downward factor\n",
    "    p = (np.exp(r * dt) - d) / (u - d)  # Probability of upward movement\n",
    "\n",
    "    # Initialize option prices at expiration (at the end of the tree)\n",
    "    prices = np.zeros((n + 1, n + 1))\n",
    "    for j in range(n + 1):\n",
    "        prices[n, j] = max(0, S * (u ** j) * (d ** (n - j)) - X)\n",
    "\n",
    "    # Calculate option prices at earlier time steps using backward induction\n",
    "    for i in range(n - 1, -1, -1):\n",
    "        for j in range(i + 1):\n",
    "            prices[i, j] = np.exp(-r * dt) * (p * prices[i + 1, j + 1] + (1 - p) * prices[i + 1, j])\n",
    "\n",
    "    # Return the option price at the initial node (current time)\n",
    "    return prices[0, 0]\n",
    "\n",
    "# Example usage:\n",
    "S = 22250  # Current price of the underlying asset\n",
    "X = 23000  # Strike price of the option\n",
    "T = 0.02  # Time to expiration (1 year)\n",
    "r = 0.01  # Risk-free interest rate\n",
    "sigma = 0.15  # Volatility of the underlying asset's returns\n",
    "n = 1000  # Number of time steps in the binomial tree\n",
    "\n",
    "call_price = binomial_option_price(S, X, T, r, sigma, n)\n",
    "print(\"Call Option Price:\", call_price)\n"
   ]
  },
  {
   "cell_type": "code",
   "execution_count": 15,
   "id": "69315468",
   "metadata": {},
   "outputs": [
    {
     "name": "stdout",
     "output_type": "stream",
     "text": [
      "American Option Price: 759.4519337289706\n"
     ]
    }
   ],
   "source": [
    "import numpy as np\n",
    "\n",
    "def binomial_american_option_price(S, X, T, r, sigma, n, option_type='call'):\n",
    "    \"\"\"\n",
    "    Calculate the price of an American option using the binomial option pricing model.\n",
    "    \n",
    "    Parameters:\n",
    "        S (float): Current price of the underlying asset\n",
    "        X (float): Strike price of the option\n",
    "        T (float): Time to expiration (in years)\n",
    "        r (float): Risk-free interest rate\n",
    "        sigma (float): Volatility of the underlying asset's returns\n",
    "        n (int): Number of time steps in the binomial tree\n",
    "        option_type (str): Type of option ('call' or 'put')\n",
    "    \n",
    "    Returns:\n",
    "        float: Price of the American option\n",
    "    \"\"\"\n",
    "    dt = T / n  # Length of each time step\n",
    "    u = np.exp(sigma * np.sqrt(dt))  # Upward factor\n",
    "    d = 1 / u  # Downward factor\n",
    "    p = (np.exp(r * dt) - d) / (u - d)  # Probability of upward movement\n",
    "\n",
    "    # Initialize option prices at expiration (at the end of the tree)\n",
    "    prices = np.zeros((n + 1, n + 1))\n",
    "    for j in range(n + 1):\n",
    "        if option_type == 'call':\n",
    "            prices[n, j] = max(0, S * (u ** j) * (d ** (n - j)) - X)\n",
    "        else:\n",
    "            prices[n, j] = max(0, X - S * (u ** j) * (d ** (n - j)))\n",
    "\n",
    "    # Calculate option prices at earlier time steps using backward induction\n",
    "    for i in range(n - 1, -1, -1):\n",
    "        for j in range(i + 1):\n",
    "            if option_type == 'call':\n",
    "                prices[i, j] = max(S * (u ** j) * (d ** (i - j)) - X, np.exp(-r * dt) * (p * prices[i + 1, j + 1] + (1 - p) * prices[i + 1, j]))\n",
    "            else:\n",
    "                prices[i, j] = max(X - S * (u ** j) * (d ** (i - j)), np.exp(-r * dt) * (p * prices[i + 1, j + 1] + (1 - p) * prices[i + 1, j]))\n",
    "\n",
    "    # Return the option price at the initial node (current time)\n",
    "    return prices[0, 0]\n",
    "\n",
    "# Example usage:\n",
    "S = 22250  # Current price of the underlying asset\n",
    "X = 23000  # Strike price of the option\n",
    "T = 0.02  # Time to expiration (1 year)\n",
    "r = 0.01  # Risk-free interest rate\n",
    "sigma = 0.15  # Volatility of the underlying asset's returns\n",
    "n = 1000  # Number of time steps in the binomial tree\n",
    "option_type = 'put'  # Type of option ('call' or 'put')\n",
    "\n",
    "american_option_price = binomial_american_option_price(S, X, T, r, sigma, n, option_type)\n",
    "print(\"American Option Price:\", american_option_price)"
   ]
  },
  {
   "cell_type": "code",
   "execution_count": null,
   "id": "bb8b2152",
   "metadata": {},
   "outputs": [],
   "source": []
  }
 ],
 "metadata": {
  "kernelspec": {
   "display_name": "Python 3 (ipykernel)",
   "language": "python",
   "name": "python3"
  },
  "language_info": {
   "codemirror_mode": {
    "name": "ipython",
    "version": 3
   },
   "file_extension": ".py",
   "mimetype": "text/x-python",
   "name": "python",
   "nbconvert_exporter": "python",
   "pygments_lexer": "ipython3",
   "version": "3.10.12"
  }
 },
 "nbformat": 4,
 "nbformat_minor": 5
}
