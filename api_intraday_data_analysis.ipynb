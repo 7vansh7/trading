{
 "cells": [
  {
   "cell_type": "code",
   "execution_count": 243,
   "id": "49bd9b07-ff4a-4102-a2d9-b8f2dfeab561",
   "metadata": {},
   "outputs": [],
   "source": [
    "import requests\n",
    "import json\n",
    "import pandas as pd\n",
    "import numpy as np\n",
    "import datetime \n",
    "import matplotlib.pyplot as plt"
   ]
  },
  {
   "cell_type": "code",
   "execution_count": 79,
   "id": "435a5e25-d035-4a4b-b25e-1394e3cd5b3c",
   "metadata": {},
   "outputs": [],
   "source": [
    "url = 'https://api.upstox.com/v2/historical-candle/NSE_EQ%7CINE848E01016/1minute/2024-07-02/2024-01-01'\n",
    "headers = {\n",
    "    'Accept': 'application/json'\n",
    "}\n",
    "\n",
    "response = requests.get(url, headers=headers)\n",
    "\n",
    "# Check the response status\n",
    "if response.status_code == 200:\n",
    "    # Do something with the response data (e.g., print it)\n",
    "    with open('./data.json','w') as file:\n",
    "        json.dump(response.json(),file)\n",
    "else:\n",
    "    # Print an error message if the request was not successful\n",
    "    print(f\"Error: {response.status_code} - {response.text}\")"
   ]
  },
  {
   "cell_type": "code",
   "execution_count": 82,
   "id": "298c58c9-b2a2-4ddd-9612-4abbd4fb8e8a",
   "metadata": {},
   "outputs": [],
   "source": [
    "file = open('./data.json')\n",
    "data = json.load(file)"
   ]
  },
  {
   "cell_type": "code",
   "execution_count": 85,
   "id": "f456911d-f64f-4ab5-8bdc-6c6786fd5d46",
   "metadata": {},
   "outputs": [
    {
     "data": {
      "text/plain": [
       "'2024-07-02T15:29:00+05:30'"
      ]
     },
     "execution_count": 85,
     "metadata": {},
     "output_type": "execute_result"
    }
   ],
   "source": [
    "data['data']['candles'][0][0]"
   ]
  },
  {
   "cell_type": "code",
   "execution_count": 87,
   "id": "6c6d7cc6-f50e-4a68-a677-b35d44db2c8c",
   "metadata": {},
   "outputs": [],
   "source": [
    "data2 = pd.read_csv('data/NIFTY 50 - Minute data.csv')"
   ]
  },
  {
   "cell_type": "code",
   "execution_count": 127,
   "id": "338f23d5-e7ff-499e-98b5-13a1e75d6ae4",
   "metadata": {},
   "outputs": [
    {
     "data": {
      "text/plain": [
       "2231.0"
      ]
     },
     "execution_count": 127,
     "metadata": {},
     "output_type": "execute_result"
    }
   ],
   "source": [
    "(len(data2)-132)/375"
   ]
  },
  {
   "cell_type": "code",
   "execution_count": 129,
   "id": "36a014c3-852a-480b-a116-14ff89949ab8",
   "metadata": {},
   "outputs": [
    {
     "data": {
      "text/plain": [
       "2231.352"
      ]
     },
     "execution_count": 129,
     "metadata": {},
     "output_type": "execute_result"
    }
   ],
   "source": [
    "len(data2)/375"
   ]
  },
  {
   "cell_type": "code",
   "execution_count": 130,
   "id": "966fa973-e55a-47dd-b60a-6be94377e491",
   "metadata": {},
   "outputs": [
    {
     "data": {
      "text/html": [
       "<div>\n",
       "<style scoped>\n",
       "    .dataframe tbody tr th:only-of-type {\n",
       "        vertical-align: middle;\n",
       "    }\n",
       "\n",
       "    .dataframe tbody tr th {\n",
       "        vertical-align: top;\n",
       "    }\n",
       "\n",
       "    .dataframe thead th {\n",
       "        text-align: right;\n",
       "    }\n",
       "</style>\n",
       "<table border=\"1\" class=\"dataframe\">\n",
       "  <thead>\n",
       "    <tr style=\"text-align: right;\">\n",
       "      <th></th>\n",
       "      <th>date</th>\n",
       "      <th>open</th>\n",
       "      <th>high</th>\n",
       "      <th>low</th>\n",
       "      <th>close</th>\n",
       "      <th>volume</th>\n",
       "    </tr>\n",
       "  </thead>\n",
       "  <tbody>\n",
       "    <tr>\n",
       "      <th>0</th>\n",
       "      <td>2015-01-09 09:15:00</td>\n",
       "      <td>8285.45</td>\n",
       "      <td>8295.90</td>\n",
       "      <td>8285.45</td>\n",
       "      <td>8292.10</td>\n",
       "      <td>0</td>\n",
       "    </tr>\n",
       "    <tr>\n",
       "      <th>1</th>\n",
       "      <td>2015-01-09 09:16:00</td>\n",
       "      <td>8292.60</td>\n",
       "      <td>8293.60</td>\n",
       "      <td>8287.20</td>\n",
       "      <td>8288.15</td>\n",
       "      <td>0</td>\n",
       "    </tr>\n",
       "    <tr>\n",
       "      <th>2</th>\n",
       "      <td>2015-01-09 09:17:00</td>\n",
       "      <td>8287.40</td>\n",
       "      <td>8293.90</td>\n",
       "      <td>8287.40</td>\n",
       "      <td>8293.90</td>\n",
       "      <td>0</td>\n",
       "    </tr>\n",
       "    <tr>\n",
       "      <th>3</th>\n",
       "      <td>2015-01-09 09:18:00</td>\n",
       "      <td>8294.25</td>\n",
       "      <td>8300.65</td>\n",
       "      <td>8293.90</td>\n",
       "      <td>8300.65</td>\n",
       "      <td>0</td>\n",
       "    </tr>\n",
       "    <tr>\n",
       "      <th>4</th>\n",
       "      <td>2015-01-09 09:19:00</td>\n",
       "      <td>8300.60</td>\n",
       "      <td>8301.30</td>\n",
       "      <td>8298.75</td>\n",
       "      <td>8301.20</td>\n",
       "      <td>0</td>\n",
       "    </tr>\n",
       "    <tr>\n",
       "      <th>...</th>\n",
       "      <td>...</td>\n",
       "      <td>...</td>\n",
       "      <td>...</td>\n",
       "      <td>...</td>\n",
       "      <td>...</td>\n",
       "      <td>...</td>\n",
       "    </tr>\n",
       "    <tr>\n",
       "      <th>370</th>\n",
       "      <td>2015-01-09 15:25:00</td>\n",
       "      <td>8286.65</td>\n",
       "      <td>8286.65</td>\n",
       "      <td>8283.65</td>\n",
       "      <td>8284.50</td>\n",
       "      <td>0</td>\n",
       "    </tr>\n",
       "    <tr>\n",
       "      <th>371</th>\n",
       "      <td>2015-01-09 15:26:00</td>\n",
       "      <td>8283.45</td>\n",
       "      <td>8284.50</td>\n",
       "      <td>8282.40</td>\n",
       "      <td>8282.40</td>\n",
       "      <td>0</td>\n",
       "    </tr>\n",
       "    <tr>\n",
       "      <th>372</th>\n",
       "      <td>2015-01-09 15:27:00</td>\n",
       "      <td>8282.35</td>\n",
       "      <td>8284.25</td>\n",
       "      <td>8282.00</td>\n",
       "      <td>8283.05</td>\n",
       "      <td>0</td>\n",
       "    </tr>\n",
       "    <tr>\n",
       "      <th>373</th>\n",
       "      <td>2015-01-09 15:28:00</td>\n",
       "      <td>8283.25</td>\n",
       "      <td>8283.70</td>\n",
       "      <td>8279.50</td>\n",
       "      <td>8279.70</td>\n",
       "      <td>0</td>\n",
       "    </tr>\n",
       "    <tr>\n",
       "      <th>374</th>\n",
       "      <td>2015-01-09 15:29:00</td>\n",
       "      <td>8280.50</td>\n",
       "      <td>8282.65</td>\n",
       "      <td>8278.05</td>\n",
       "      <td>8280.25</td>\n",
       "      <td>0</td>\n",
       "    </tr>\n",
       "  </tbody>\n",
       "</table>\n",
       "<p>375 rows × 6 columns</p>\n",
       "</div>"
      ],
      "text/plain": [
       "                    date     open     high      low    close  volume\n",
       "0    2015-01-09 09:15:00  8285.45  8295.90  8285.45  8292.10       0\n",
       "1    2015-01-09 09:16:00  8292.60  8293.60  8287.20  8288.15       0\n",
       "2    2015-01-09 09:17:00  8287.40  8293.90  8287.40  8293.90       0\n",
       "3    2015-01-09 09:18:00  8294.25  8300.65  8293.90  8300.65       0\n",
       "4    2015-01-09 09:19:00  8300.60  8301.30  8298.75  8301.20       0\n",
       "..                   ...      ...      ...      ...      ...     ...\n",
       "370  2015-01-09 15:25:00  8286.65  8286.65  8283.65  8284.50       0\n",
       "371  2015-01-09 15:26:00  8283.45  8284.50  8282.40  8282.40       0\n",
       "372  2015-01-09 15:27:00  8282.35  8284.25  8282.00  8283.05       0\n",
       "373  2015-01-09 15:28:00  8283.25  8283.70  8279.50  8279.70       0\n",
       "374  2015-01-09 15:29:00  8280.50  8282.65  8278.05  8280.25       0\n",
       "\n",
       "[375 rows x 6 columns]"
      ]
     },
     "execution_count": 130,
     "metadata": {},
     "output_type": "execute_result"
    }
   ],
   "source": [
    "data2[0:375]"
   ]
  },
  {
   "cell_type": "code",
   "execution_count": 131,
   "id": "44d90339-12a4-4da9-b397-d48083bdc55c",
   "metadata": {},
   "outputs": [],
   "source": [
    "data2['date'] = pd.to_datetime(data2['date'])"
   ]
  },
  {
   "cell_type": "code",
   "execution_count": 137,
   "id": "a6f634ef-f158-4e43-a701-fa019b7071cf",
   "metadata": {},
   "outputs": [],
   "source": [
    "data2.drop(['volume'],axis=1,inplace=True)"
   ]
  },
  {
   "cell_type": "code",
   "execution_count": 216,
   "id": "a3e57e2b-75eb-4ba2-8587-c12dd248d5a7",
   "metadata": {},
   "outputs": [],
   "source": [
    "data2['Date'] = data2['date'].dt.date"
   ]
  },
  {
   "cell_type": "code",
   "execution_count": 217,
   "id": "c9dfd304-4796-419b-b175-011fa3353eec",
   "metadata": {
    "scrolled": true
   },
   "outputs": [],
   "source": [
    "data2['Date'] = pd.to_datetime(data2['Date'])"
   ]
  },
  {
   "cell_type": "code",
   "execution_count": 260,
   "id": "1eb7aaa6-2f00-473d-822b-e2b07b1608c6",
   "metadata": {},
   "outputs": [],
   "source": [
    "data2['time'] = data2['full_date'].dt.time"
   ]
  },
  {
   "cell_type": "code",
   "execution_count": 184,
   "id": "a8b60d91-26c0-4bab-bbe2-00cc55afa722",
   "metadata": {},
   "outputs": [],
   "source": [
    "data2 = data2.rename(columns={'date':'full_date','Date':'date'})"
   ]
  },
  {
   "cell_type": "code",
   "execution_count": 261,
   "id": "ccbf60bc-3ff8-483f-b2d5-67b1f7e0be09",
   "metadata": {},
   "outputs": [],
   "source": [
    "data2['time'] = data2['time'].apply(lambda x:str(x))"
   ]
  },
  {
   "cell_type": "code",
   "execution_count": 241,
   "id": "0746aba3-3958-462b-b435-3c186a74412f",
   "metadata": {},
   "outputs": [
    {
     "data": {
      "text/html": [
       "<div>\n",
       "<style scoped>\n",
       "    .dataframe tbody tr th:only-of-type {\n",
       "        vertical-align: middle;\n",
       "    }\n",
       "\n",
       "    .dataframe tbody tr th {\n",
       "        vertical-align: top;\n",
       "    }\n",
       "\n",
       "    .dataframe thead th {\n",
       "        text-align: right;\n",
       "    }\n",
       "</style>\n",
       "<table border=\"1\" class=\"dataframe\">\n",
       "  <thead>\n",
       "    <tr style=\"text-align: right;\">\n",
       "      <th></th>\n",
       "      <th>full_date</th>\n",
       "      <th>open</th>\n",
       "      <th>high</th>\n",
       "      <th>low</th>\n",
       "      <th>close</th>\n",
       "      <th>date</th>\n",
       "      <th>time</th>\n",
       "      <th>Date</th>\n",
       "    </tr>\n",
       "  </thead>\n",
       "  <tbody>\n",
       "    <tr>\n",
       "      <th>369</th>\n",
       "      <td>2015-01-09 15:24:00</td>\n",
       "      <td>8286.90</td>\n",
       "      <td>8288.05</td>\n",
       "      <td>8286.35</td>\n",
       "      <td>8286.35</td>\n",
       "      <td>2015-01-09</td>\n",
       "      <td>15:24:00</td>\n",
       "      <td>2015-01-09</td>\n",
       "    </tr>\n",
       "    <tr>\n",
       "      <th>744</th>\n",
       "      <td>2015-01-12 15:24:00</td>\n",
       "      <td>8327.20</td>\n",
       "      <td>8330.40</td>\n",
       "      <td>8326.25</td>\n",
       "      <td>8329.25</td>\n",
       "      <td>2015-01-12</td>\n",
       "      <td>15:24:00</td>\n",
       "      <td>2015-01-12</td>\n",
       "    </tr>\n",
       "    <tr>\n",
       "      <th>1119</th>\n",
       "      <td>2015-01-13 15:24:00</td>\n",
       "      <td>8308.00</td>\n",
       "      <td>8309.20</td>\n",
       "      <td>8307.70</td>\n",
       "      <td>8308.70</td>\n",
       "      <td>2015-01-13</td>\n",
       "      <td>15:24:00</td>\n",
       "      <td>2015-01-13</td>\n",
       "    </tr>\n",
       "    <tr>\n",
       "      <th>1494</th>\n",
       "      <td>2015-01-14 15:24:00</td>\n",
       "      <td>8284.30</td>\n",
       "      <td>8286.95</td>\n",
       "      <td>8284.25</td>\n",
       "      <td>8285.15</td>\n",
       "      <td>2015-01-14</td>\n",
       "      <td>15:24:00</td>\n",
       "      <td>2015-01-14</td>\n",
       "    </tr>\n",
       "    <tr>\n",
       "      <th>1869</th>\n",
       "      <td>2015-01-15 15:24:00</td>\n",
       "      <td>8468.00</td>\n",
       "      <td>8468.00</td>\n",
       "      <td>8460.70</td>\n",
       "      <td>8463.55</td>\n",
       "      <td>2015-01-15</td>\n",
       "      <td>15:24:00</td>\n",
       "      <td>2015-01-15</td>\n",
       "    </tr>\n",
       "    <tr>\n",
       "      <th>...</th>\n",
       "      <td>...</td>\n",
       "      <td>...</td>\n",
       "      <td>...</td>\n",
       "      <td>...</td>\n",
       "      <td>...</td>\n",
       "      <td>...</td>\n",
       "      <td>...</td>\n",
       "      <td>...</td>\n",
       "    </tr>\n",
       "    <tr>\n",
       "      <th>835251</th>\n",
       "      <td>2024-01-19 15:24:00</td>\n",
       "      <td>21631.60</td>\n",
       "      <td>21635.20</td>\n",
       "      <td>21629.20</td>\n",
       "      <td>21635.20</td>\n",
       "      <td>2024-01-19</td>\n",
       "      <td>15:24:00</td>\n",
       "      <td>2024-01-19</td>\n",
       "    </tr>\n",
       "    <tr>\n",
       "      <th>835626</th>\n",
       "      <td>2024-01-20 15:24:00</td>\n",
       "      <td>21584.40</td>\n",
       "      <td>21585.00</td>\n",
       "      <td>21578.80</td>\n",
       "      <td>21585.00</td>\n",
       "      <td>2024-01-20</td>\n",
       "      <td>15:24:00</td>\n",
       "      <td>2024-01-20</td>\n",
       "    </tr>\n",
       "    <tr>\n",
       "      <th>836001</th>\n",
       "      <td>2024-01-23 15:24:00</td>\n",
       "      <td>21257.50</td>\n",
       "      <td>21258.70</td>\n",
       "      <td>21253.85</td>\n",
       "      <td>21257.10</td>\n",
       "      <td>2024-01-23</td>\n",
       "      <td>15:24:00</td>\n",
       "      <td>2024-01-23</td>\n",
       "    </tr>\n",
       "    <tr>\n",
       "      <th>836376</th>\n",
       "      <td>2024-01-24 15:24:00</td>\n",
       "      <td>21470.55</td>\n",
       "      <td>21471.45</td>\n",
       "      <td>21468.10</td>\n",
       "      <td>21469.30</td>\n",
       "      <td>2024-01-24</td>\n",
       "      <td>15:24:00</td>\n",
       "      <td>2024-01-24</td>\n",
       "    </tr>\n",
       "    <tr>\n",
       "      <th>836751</th>\n",
       "      <td>2024-01-25 15:24:00</td>\n",
       "      <td>21364.90</td>\n",
       "      <td>21380.35</td>\n",
       "      <td>21363.20</td>\n",
       "      <td>21378.20</td>\n",
       "      <td>2024-01-25</td>\n",
       "      <td>15:24:00</td>\n",
       "      <td>2024-01-25</td>\n",
       "    </tr>\n",
       "  </tbody>\n",
       "</table>\n",
       "<p>2206 rows × 8 columns</p>\n",
       "</div>"
      ],
      "text/plain": [
       "                 full_date      open      high       low     close       date  \\\n",
       "369    2015-01-09 15:24:00   8286.90   8288.05   8286.35   8286.35 2015-01-09   \n",
       "744    2015-01-12 15:24:00   8327.20   8330.40   8326.25   8329.25 2015-01-12   \n",
       "1119   2015-01-13 15:24:00   8308.00   8309.20   8307.70   8308.70 2015-01-13   \n",
       "1494   2015-01-14 15:24:00   8284.30   8286.95   8284.25   8285.15 2015-01-14   \n",
       "1869   2015-01-15 15:24:00   8468.00   8468.00   8460.70   8463.55 2015-01-15   \n",
       "...                    ...       ...       ...       ...       ...        ...   \n",
       "835251 2024-01-19 15:24:00  21631.60  21635.20  21629.20  21635.20 2024-01-19   \n",
       "835626 2024-01-20 15:24:00  21584.40  21585.00  21578.80  21585.00 2024-01-20   \n",
       "836001 2024-01-23 15:24:00  21257.50  21258.70  21253.85  21257.10 2024-01-23   \n",
       "836376 2024-01-24 15:24:00  21470.55  21471.45  21468.10  21469.30 2024-01-24   \n",
       "836751 2024-01-25 15:24:00  21364.90  21380.35  21363.20  21378.20 2024-01-25   \n",
       "\n",
       "            time       Date  \n",
       "369     15:24:00 2015-01-09  \n",
       "744     15:24:00 2015-01-12  \n",
       "1119    15:24:00 2015-01-13  \n",
       "1494    15:24:00 2015-01-14  \n",
       "1869    15:24:00 2015-01-15  \n",
       "...          ...        ...  \n",
       "835251  15:24:00 2024-01-19  \n",
       "835626  15:24:00 2024-01-20  \n",
       "836001  15:24:00 2024-01-23  \n",
       "836376  15:24:00 2024-01-24  \n",
       "836751  15:24:00 2024-01-25  \n",
       "\n",
       "[2206 rows x 8 columns]"
      ]
     },
     "execution_count": 241,
     "metadata": {},
     "output_type": "execute_result"
    }
   ],
   "source": [
    "data2[data2['time'] == '15:24:00']"
   ]
  },
  {
   "cell_type": "code",
   "execution_count": 263,
   "id": "3f4fb6bc-d363-42c6-a0c2-8344f7533673",
   "metadata": {},
   "outputs": [],
   "source": [
    "# data2['time'] = data2['time'].str.slice(stop=-3)\n",
    "data2['time'] = data2['time'].str.replace(':','')"
   ]
  },
  {
   "cell_type": "code",
   "execution_count": 298,
   "id": "ac22c3c1-6d6c-4463-9222-1b443df1a6d9",
   "metadata": {
    "editable": true,
    "scrolled": true,
    "slideshow": {
     "slide_type": ""
    },
    "tags": []
   },
   "outputs": [
    {
     "data": {
      "image/png": "[encoded data removed]",
      "text/plain": [
       "<Figure size 500x300 with 1 Axes>"
      ]
     },
     "metadata": {},
     "output_type": "display_data"
    }
   ],
   "source": [
    "plt.figure(figsize=(5, 3))\n",
    "plt.plot(data2['close'])\n",
    "plt.show()"
   ]
  },
  {
   "cell_type": "code",
   "execution_count": 299,
   "id": "cad2a2bf-1f04-45eb-add4-0bac345f36a1",
   "metadata": {},
   "outputs": [
    {
     "ename": "NameError",
     "evalue": "name 'api_intraday_data_analysis' is not defined",
     "output_type": "error",
     "traceback": [
      "\u001b[0;31m---------------------------------------------------------------------------\u001b[0m",
      "\u001b[0;31mNameError\u001b[0m                                 Traceback (most recent call last)",
      "Cell \u001b[0;32mIn[299], line 1\u001b[0m\n\u001b[0;32m----> 1\u001b[0m \u001b[43mapi_intraday_data_analysis\u001b[49m\u001b[38;5;241m.\u001b[39mipynb\n",
      "\u001b[0;31mNameError\u001b[0m: name 'api_intraday_data_analysis' is not defined"
     ]
    }
   ],
   "source": []
  },
  {
   "cell_type": "code",
   "execution_count": null,
   "id": "ae75fe41-9a23-4f6b-9171-a2161ec05071",
   "metadata": {},
   "outputs": [],
   "source": []
  },
  {
   "cell_type": "code",
   "execution_count": null,
   "id": "f67ea6a5-376a-451a-82bd-539c3b791b9f",
   "metadata": {},
   "outputs": [],
   "source": []
  }
 ],
 "metadata": {
  "kernelspec": {
   "display_name": "Python 3 (ipykernel)",
   "language": "python",
   "name": "python3"
  },
  "language_info": {
   "codemirror_mode": {
    "name": "ipython",
    "version": 3
   },
   "file_extension": ".py",
   "mimetype": "text/x-python",
   "name": "python",
   "nbconvert_exporter": "python",
   "pygments_lexer": "ipython3",
   "version": "3.10.12"
  }
 },
 "nbformat": 4,
 "nbformat_minor": 5
}
