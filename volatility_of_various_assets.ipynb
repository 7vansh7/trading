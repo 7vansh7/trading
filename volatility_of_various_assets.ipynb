{
 "cells": [
  {
   "cell_type": "code",
   "execution_count": 1,
   "id": "89feca1e",
   "metadata": {},
   "outputs": [
    {
     "ename": "ModuleNotFoundError",
     "evalue": "No module named 'matplotlib'",
     "output_type": "error",
     "traceback": [
      "\u001b[0;31m---------------------------------------------------------------------------\u001b[0m",
      "\u001b[0;31mModuleNotFoundError\u001b[0m                       Traceback (most recent call last)",
      "Cell \u001b[0;32mIn[1], line 3\u001b[0m\n\u001b[1;32m      1\u001b[0m \u001b[38;5;28;01mimport\u001b[39;00m \u001b[38;5;21;01mnumpy\u001b[39;00m \u001b[38;5;28;01mas\u001b[39;00m \u001b[38;5;21;01mnp\u001b[39;00m\n\u001b[1;32m      2\u001b[0m \u001b[38;5;28;01mimport\u001b[39;00m \u001b[38;5;21;01mpandas\u001b[39;00m \u001b[38;5;28;01mas\u001b[39;00m \u001b[38;5;21;01mpd\u001b[39;00m\n\u001b[0;32m----> 3\u001b[0m \u001b[38;5;28;01mimport\u001b[39;00m \u001b[38;5;21;01mmatplotlib\u001b[39;00m\u001b[38;5;21;01m.\u001b[39;00m\u001b[38;5;21;01mpyplot\u001b[39;00m \u001b[38;5;28;01mas\u001b[39;00m \u001b[38;5;21;01mplt\u001b[39;00m\n",
      "\u001b[0;31mModuleNotFoundError\u001b[0m: No module named 'matplotlib'"
     ]
    }
   ],
   "source": [
    "import numpy as np\n",
    "import pandas as pd\n",
    "import matplotlib.pyplot as plt"
   ]
  },
  {
   "cell_type": "code",
   "execution_count": 102,
   "id": "e7b65e6a",
   "metadata": {},
   "outputs": [
    {
     "data": {
      "text/plain": [
       "Index(['Date ', 'Open ', 'High ', 'Low ', 'Close ', 'Shares Traded ',\n",
       "       'Turnover (₹ Cr)'],\n",
       "      dtype='object')"
      ]
     },
     "execution_count": 102,
     "metadata": {},
     "output_type": "execute_result"
    }
   ],
   "source": [
    "data = pd.read_csv('./NIFTY 50-08-04-2024-to-08-05-2024.csv')"
   ]
  },
  {
   "cell_type": "code",
   "execution_count": 29,
   "id": "852efc9c",
   "metadata": {},
   "outputs": [],
   "source": [
    "change = np.log(data['Close '] / data['Close '].shift(1))"
   ]
  },
  {
   "cell_type": "code",
   "execution_count": 30,
   "id": "ab6a0a25",
   "metadata": {},
   "outputs": [],
   "source": [
    "volatility = change.std()"
   ]
  },
  {
   "cell_type": "code",
   "execution_count": 26,
   "id": "cf17aa60",
   "metadata": {
    "scrolled": true
   },
   "outputs": [
    {
     "data": {
      "text/plain": [
       "0.10524009260930639"
      ]
     },
     "execution_count": 26,
     "metadata": {},
     "output_type": "execute_result"
    }
   ],
   "source": [
    "volatility * np.sqrt(252)"
   ]
  },
  {
   "attachments": {},
   "cell_type": "markdown",
   "id": "ea16abb9",
   "metadata": {},
   "source": [
    "volatility(annual data) = 0.09\n",
    "\n",
    "\n",
    "volatility(previous month data) =0.1"
   ]
  },
  {
   "cell_type": "code",
   "execution_count": 45,
   "id": "7abba6b3",
   "metadata": {
    "scrolled": true
   },
   "outputs": [],
   "source": [
    "def volatility(data,vol_time_frame,column_name):\n",
    "    # file = pd.read_csv(data)\n",
    "    change = np.log(data[column_name] / data[column_name].shift(1))\n",
    "    volatility = change.std()\n",
    "    return volatility * np.sqrt(vol_time_frame)"
   ]
  },
  {
   "cell_type": "code",
   "execution_count": 69,
   "id": "1332c030-1b1a-496d-9267-5010c3de1234",
   "metadata": {},
   "outputs": [],
   "source": [
    "data = pd.read_csv('./Bitcoin Historical Data.csv')\n",
    "data['Price'] = pd.read_csv('./Bitcoin Historical Data.csv')['Price'].str.replace(',','').astype(float)"
   ]
  },
  {
   "cell_type": "code",
   "execution_count": 74,
   "id": "c34772fa-0057-4f0e-b660-d53ad20b9b06",
   "metadata": {
    "scrolled": true
   },
   "outputs": [
    {
     "data": {
      "text/plain": [
       "0.5329418161915599"
      ]
     },
     "execution_count": 74,
     "metadata": {},
     "output_type": "execute_result"
    }
   ],
   "source": [
    "volatility(data,365,'Price')"
   ]
  },
  {
   "cell_type": "code",
   "execution_count": 79,
   "id": "7cd87814-ad6c-47fa-914b-0ba03a4e54a6",
   "metadata": {},
   "outputs": [
    {
     "data": {
      "text/plain": [
       "15.010488861436977"
      ]
     },
     "execution_count": 79,
     "metadata": {},
     "output_type": "execute_result"
    }
   ],
   "source": [
    "((data.iloc[-1]['Price'] - data.iloc[0]['Price'])/data.iloc[0]['Price']) *100"
   ]
  },
  {
   "cell_type": "code",
   "execution_count": 81,
   "id": "2a68aa41-a18d-43ed-a7ce-6c1d9112956c",
   "metadata": {},
   "outputs": [
    {
     "data": {
      "text/plain": [
       "(70011.6, 60874.1)"
      ]
     },
     "execution_count": 81,
     "metadata": {},
     "output_type": "execute_result"
    }
   ],
   "source": [
    "data.iloc[-1]['Price'], data.iloc[0]['Price']"
   ]
  },
  {
   "cell_type": "code",
   "execution_count": 228,
   "id": "54091366-7144-4ae7-ac4f-426a48395d9b",
   "metadata": {},
   "outputs": [],
   "source": [
    "data = pd.read_csv('Bitcoin Historical Data.csv')"
   ]
  },
  {
   "cell_type": "code",
   "execution_count": 229,
   "id": "f1361754-b233-40f3-bfc1-92a130052543",
   "metadata": {},
   "outputs": [],
   "source": [
    "data= data.drop('Date',axis=1)"
   ]
  },
  {
   "cell_type": "code",
   "execution_count": 230,
   "id": "7aed2849-d195-45c5-80d2-c391574a41a2",
   "metadata": {},
   "outputs": [],
   "source": [
    "labels = []\n",
    "for c in data.keys():\n",
    "    labels.append(c)"
   ]
  },
  {
   "cell_type": "code",
   "execution_count": null,
   "id": "69c054a5-bd31-4ff6-b85a-d792170512bc",
   "metadata": {
    "scrolled": true
   },
   "outputs": [],
   "source": [
    "for x in labels:\n",
    "    data[x] = data[x].str.replace(',','').astype('float')"
   ]
  },
  {
   "cell_type": "code",
   "execution_count": 259,
   "id": "2074d5fe-a0a7-4aa1-80d0-3001404ac801",
   "metadata": {},
   "outputs": [],
   "source": [
    "data['Change %'] = data['Change %'].str.replace('%','').astype('float')"
   ]
  },
  {
   "cell_type": "code",
   "execution_count": 260,
   "id": "4796fda0-519e-4849-8a95-4924bd47dcf5",
   "metadata": {},
   "outputs": [
    {
     "name": "stdout",
     "output_type": "stream",
     "text": [
      "<class 'pandas.core.frame.DataFrame'>\n",
      "RangeIndex: 31 entries, 0 to 30\n",
      "Data columns (total 6 columns):\n",
      " #   Column    Non-Null Count  Dtype  \n",
      "---  ------    --------------  -----  \n",
      " 0   Price     31 non-null     float64\n",
      " 1   Open      31 non-null     float64\n",
      " 2   High      31 non-null     float64\n",
      " 3   Low       31 non-null     float64\n",
      " 4   Vol.      31 non-null     float64\n",
      " 5   Change %  31 non-null     float64\n",
      "dtypes: float64(6)\n",
      "memory usage: 1.6 KB\n"
     ]
    }
   ],
   "source": [
    "data.info()"
   ]
  },
  {
   "cell_type": "code",
   "execution_count": 36,
   "id": "757ccd8c-28fa-4849-b13b-00797e6a75cd",
   "metadata": {},
   "outputs": [],
   "source": [
    "data = pd.read_csv('NIFTY 50 - Minute data.csv')"
   ]
  },
  {
   "cell_type": "code",
   "execution_count": 27,
   "id": "2c038e96-75ac-46ec-aecd-da5f04d798be",
   "metadata": {},
   "outputs": [],
   "source": [
    "data['date']=pd.to_datetime(data['date'])"
   ]
  },
  {
   "cell_type": "code",
   "execution_count": 46,
   "id": "7ad38848-eaa9-4662-ac73-8e76f1d59155",
   "metadata": {},
   "outputs": [
    {
     "data": {
      "text/html": [
       "<div>\n",
       "<style scoped>\n",
       "    .dataframe tbody tr th:only-of-type {\n",
       "        vertical-align: middle;\n",
       "    }\n",
       "\n",
       "    .dataframe tbody tr th {\n",
       "        vertical-align: top;\n",
       "    }\n",
       "\n",
       "    .dataframe thead th {\n",
       "        text-align: right;\n",
       "    }\n",
       "</style>\n",
       "<table border=\"1\" class=\"dataframe\">\n",
       "  <thead>\n",
       "    <tr style=\"text-align: right;\">\n",
       "      <th></th>\n",
       "      <th>date</th>\n",
       "      <th>open</th>\n",
       "      <th>high</th>\n",
       "      <th>low</th>\n",
       "      <th>close</th>\n",
       "      <th>volume</th>\n",
       "    </tr>\n",
       "  </thead>\n",
       "  <tbody>\n",
       "    <tr>\n",
       "      <th>0</th>\n",
       "      <td>2015-01-09 09:15:00</td>\n",
       "      <td>8285.45</td>\n",
       "      <td>8295.90</td>\n",
       "      <td>8285.45</td>\n",
       "      <td>8292.10</td>\n",
       "      <td>0</td>\n",
       "    </tr>\n",
       "    <tr>\n",
       "      <th>1</th>\n",
       "      <td>2015-01-09 09:16:00</td>\n",
       "      <td>8292.60</td>\n",
       "      <td>8293.60</td>\n",
       "      <td>8287.20</td>\n",
       "      <td>8288.15</td>\n",
       "      <td>0</td>\n",
       "    </tr>\n",
       "    <tr>\n",
       "      <th>2</th>\n",
       "      <td>2015-01-09 09:17:00</td>\n",
       "      <td>8287.40</td>\n",
       "      <td>8293.90</td>\n",
       "      <td>8287.40</td>\n",
       "      <td>8293.90</td>\n",
       "      <td>0</td>\n",
       "    </tr>\n",
       "    <tr>\n",
       "      <th>3</th>\n",
       "      <td>2015-01-09 09:18:00</td>\n",
       "      <td>8294.25</td>\n",
       "      <td>8300.65</td>\n",
       "      <td>8293.90</td>\n",
       "      <td>8300.65</td>\n",
       "      <td>0</td>\n",
       "    </tr>\n",
       "    <tr>\n",
       "      <th>4</th>\n",
       "      <td>2015-01-09 09:19:00</td>\n",
       "      <td>8300.60</td>\n",
       "      <td>8301.30</td>\n",
       "      <td>8298.75</td>\n",
       "      <td>8301.20</td>\n",
       "      <td>0</td>\n",
       "    </tr>\n",
       "    <tr>\n",
       "      <th>...</th>\n",
       "      <td>...</td>\n",
       "      <td>...</td>\n",
       "      <td>...</td>\n",
       "      <td>...</td>\n",
       "      <td>...</td>\n",
       "      <td>...</td>\n",
       "    </tr>\n",
       "    <tr>\n",
       "      <th>836752</th>\n",
       "      <td>2024-01-25 15:25:00</td>\n",
       "      <td>21376.55</td>\n",
       "      <td>21378.90</td>\n",
       "      <td>21372.75</td>\n",
       "      <td>21377.95</td>\n",
       "      <td>0</td>\n",
       "    </tr>\n",
       "    <tr>\n",
       "      <th>836753</th>\n",
       "      <td>2024-01-25 15:26:00</td>\n",
       "      <td>21376.55</td>\n",
       "      <td>21386.10</td>\n",
       "      <td>21375.80</td>\n",
       "      <td>21384.20</td>\n",
       "      <td>0</td>\n",
       "    </tr>\n",
       "    <tr>\n",
       "      <th>836754</th>\n",
       "      <td>2024-01-25 15:27:00</td>\n",
       "      <td>21384.75</td>\n",
       "      <td>21401.75</td>\n",
       "      <td>21381.30</td>\n",
       "      <td>21394.15</td>\n",
       "      <td>0</td>\n",
       "    </tr>\n",
       "    <tr>\n",
       "      <th>836755</th>\n",
       "      <td>2024-01-25 15:28:00</td>\n",
       "      <td>21392.70</td>\n",
       "      <td>21396.25</td>\n",
       "      <td>21384.25</td>\n",
       "      <td>21395.70</td>\n",
       "      <td>0</td>\n",
       "    </tr>\n",
       "    <tr>\n",
       "      <th>836756</th>\n",
       "      <td>2024-01-25 15:29:00</td>\n",
       "      <td>21391.75</td>\n",
       "      <td>21391.95</td>\n",
       "      <td>21367.40</td>\n",
       "      <td>21370.75</td>\n",
       "      <td>0</td>\n",
       "    </tr>\n",
       "  </tbody>\n",
       "</table>\n",
       "<p>836757 rows × 6 columns</p>\n",
       "</div>"
      ],
      "text/plain": [
       "                       date      open      high       low     close  volume\n",
       "0       2015-01-09 09:15:00   8285.45   8295.90   8285.45   8292.10       0\n",
       "1       2015-01-09 09:16:00   8292.60   8293.60   8287.20   8288.15       0\n",
       "2       2015-01-09 09:17:00   8287.40   8293.90   8287.40   8293.90       0\n",
       "3       2015-01-09 09:18:00   8294.25   8300.65   8293.90   8300.65       0\n",
       "4       2015-01-09 09:19:00   8300.60   8301.30   8298.75   8301.20       0\n",
       "...                     ...       ...       ...       ...       ...     ...\n",
       "836752  2024-01-25 15:25:00  21376.55  21378.90  21372.75  21377.95       0\n",
       "836753  2024-01-25 15:26:00  21376.55  21386.10  21375.80  21384.20       0\n",
       "836754  2024-01-25 15:27:00  21384.75  21401.75  21381.30  21394.15       0\n",
       "836755  2024-01-25 15:28:00  21392.70  21396.25  21384.25  21395.70       0\n",
       "836756  2024-01-25 15:29:00  21391.75  21391.95  21367.40  21370.75       0\n",
       "\n",
       "[836757 rows x 6 columns]"
      ]
     },
     "execution_count": 46,
     "metadata": {},
     "output_type": "execute_result"
    }
   ],
   "source": [
    "data"
   ]
  },
  {
   "cell_type": "code",
   "execution_count": 77,
   "id": "cfe95489-2822-43f9-badc-323cccf84778",
   "metadata": {
    "scrolled": true
   },
   "outputs": [
    {
     "data": {
      "text/plain": [
       "0.0005336624981080272"
      ]
     },
     "execution_count": 77,
     "metadata": {},
     "output_type": "execute_result"
    }
   ],
   "source": [
    "volatility(data[10000:],1,'close')"
   ]
  },
  {
   "cell_type": "code",
   "execution_count": null,
   "id": "e50dc20a-83dc-49af-a8da-3ad5e32aed23",
   "metadata": {},
   "outputs": [],
   "source": []
  },
  {
   "cell_type": "code",
   "execution_count": null,
   "id": "74f990b9-42c3-46c6-b85c-176a8cd55bc2",
   "metadata": {},
   "outputs": [],
   "source": []
  }
 ],
 "metadata": {
  "kernelspec": {
   "display_name": "Python 3 (ipykernel)",
   "language": "python",
   "name": "python3"
  },
  "language_info": {
   "codemirror_mode": {
    "name": "ipython",
    "version": 3
   },
   "file_extension": ".py",
   "mimetype": "text/x-python",
   "name": "python",
   "nbconvert_exporter": "python",
   "pygments_lexer": "ipython3",
   "version": "3.11.5"
  }
 },
 "nbformat": 4,
 "nbformat_minor": 5
}
