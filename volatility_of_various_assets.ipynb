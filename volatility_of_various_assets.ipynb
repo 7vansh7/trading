{
 "cells": [
  {
   "cell_type": "code",
   "execution_count": 136,
   "id": "89feca1e",
   "metadata": {},
   "outputs": [],
   "source": [
    "import numpy as np\n",
    "import pandas as pd\n",
    "import matplotlib.pyplot as plt"
   ]
  },
  {
   "cell_type": "code",
   "execution_count": 102,
   "id": "e7b65e6a",
   "metadata": {},
   "outputs": [
    {
     "data": {
      "text/plain": [
       "Index(['Date ', 'Open ', 'High ', 'Low ', 'Close ', 'Shares Traded ',\n",
       "       'Turnover (₹ Cr)'],\n",
       "      dtype='object')"
      ]
     },
     "execution_count": 102,
     "metadata": {},
     "output_type": "execute_result"
    }
   ],
   "source": [
    "data = pd.read_csv('./NIFTY 50-08-04-2024-to-08-05-2024.csv')"
   ]
  },
  {
   "cell_type": "code",
   "execution_count": 29,
   "id": "852efc9c",
   "metadata": {},
   "outputs": [],
   "source": [
    "change = np.log(data['Close '] / data['Close '].shift(1))"
   ]
  },
  {
   "cell_type": "code",
   "execution_count": 30,
   "id": "ab6a0a25",
   "metadata": {},
   "outputs": [],
   "source": [
    "volatility = change.std()"
   ]
  },
  {
   "cell_type": "code",
   "execution_count": 26,
   "id": "cf17aa60",
   "metadata": {
    "scrolled": true
   },
   "outputs": [
    {
     "data": {
      "text/plain": [
       "0.10524009260930639"
      ]
     },
     "execution_count": 26,
     "metadata": {},
     "output_type": "execute_result"
    }
   ],
   "source": [
    "volatility * np.sqrt(252)"
   ]
  },
  {
   "cell_type": "markdown",
   "id": "ea16abb9",
   "metadata": {},
   "source": [
    "volatility(annual data) = 0.09\n",
    "\n",
    "\n",
    "volatility(previous month data) =0.1"
   ]
  },
  {
   "cell_type": "code",
   "execution_count": 65,
   "id": "7abba6b3",
   "metadata": {
    "scrolled": true
   },
   "outputs": [],
   "source": [
    "def volatility(data,vol_time_frame,column_name):\n",
    "    # file = pd.read_csv(data)\n",
    "    change = np.log(data[column_name] / data[column_name].shift(1))\n",
    "    volatility = change.std()\n",
    "    return volatility * np.sqrt(vol_time_frame)"
   ]
  },
  {
   "cell_type": "code",
   "execution_count": 69,
   "id": "1332c030-1b1a-496d-9267-5010c3de1234",
   "metadata": {},
   "outputs": [],
   "source": [
    "data = pd.read_csv('./Bitcoin Historical Data.csv')\n",
    "data['Price'] = pd.read_csv('./Bitcoin Historical Data.csv')['Price'].str.replace(',','').astype(float)"
   ]
  },
  {
   "cell_type": "code",
   "execution_count": 74,
   "id": "c34772fa-0057-4f0e-b660-d53ad20b9b06",
   "metadata": {
    "scrolled": true
   },
   "outputs": [
    {
     "data": {
      "text/plain": [
       "0.5329418161915599"
      ]
     },
     "execution_count": 74,
     "metadata": {},
     "output_type": "execute_result"
    }
   ],
   "source": [
    "volatility(data,365,'Price')"
   ]
  },
  {
   "cell_type": "code",
   "execution_count": 79,
   "id": "7cd87814-ad6c-47fa-914b-0ba03a4e54a6",
   "metadata": {},
   "outputs": [
    {
     "data": {
      "text/plain": [
       "15.010488861436977"
      ]
     },
     "execution_count": 79,
     "metadata": {},
     "output_type": "execute_result"
    }
   ],
   "source": [
    "((data.iloc[-1]['Price'] - data.iloc[0]['Price'])/data.iloc[0]['Price']) *100"
   ]
  },
  {
   "cell_type": "code",
   "execution_count": 81,
   "id": "2a68aa41-a18d-43ed-a7ce-6c1d9112956c",
   "metadata": {},
   "outputs": [
    {
     "data": {
      "text/plain": [
       "(70011.6, 60874.1)"
      ]
     },
     "execution_count": 81,
     "metadata": {},
     "output_type": "execute_result"
    }
   ],
   "source": [
    "data.iloc[-1]['Price'], data.iloc[0]['Price']"
   ]
  },
  {
   "cell_type": "code",
   "execution_count": 228,
   "id": "54091366-7144-4ae7-ac4f-426a48395d9b",
   "metadata": {},
   "outputs": [],
   "source": [
    "data = pd.read_csv('Bitcoin Historical Data.csv')"
   ]
  },
  {
   "cell_type": "code",
   "execution_count": 229,
   "id": "f1361754-b233-40f3-bfc1-92a130052543",
   "metadata": {},
   "outputs": [],
   "source": [
    "data= data.drop('Date',axis=1)"
   ]
  },
  {
   "cell_type": "code",
   "execution_count": 230,
   "id": "7aed2849-d195-45c5-80d2-c391574a41a2",
   "metadata": {},
   "outputs": [],
   "source": [
    "labels = []\n",
    "for c in data.keys():\n",
    "    labels.append(c)"
   ]
  },
  {
   "cell_type": "code",
   "execution_count": null,
   "id": "69c054a5-bd31-4ff6-b85a-d792170512bc",
   "metadata": {
    "scrolled": true
   },
   "outputs": [],
   "source": [
    "for x in labels:\n",
    "    data[x] = data[x].str.replace(',','').astype('float')"
   ]
  },
  {
   "cell_type": "code",
   "execution_count": 259,
   "id": "2074d5fe-a0a7-4aa1-80d0-3001404ac801",
   "metadata": {},
   "outputs": [],
   "source": [
    "data['Change %'] = data['Change %'].str.replace('%','').astype('float')"
   ]
  },
  {
   "cell_type": "code",
   "execution_count": 260,
   "id": "4796fda0-519e-4849-8a95-4924bd47dcf5",
   "metadata": {},
   "outputs": [
    {
     "name": "stdout",
     "output_type": "stream",
     "text": [
      "<class 'pandas.core.frame.DataFrame'>\n",
      "RangeIndex: 31 entries, 0 to 30\n",
      "Data columns (total 6 columns):\n",
      " #   Column    Non-Null Count  Dtype  \n",
      "---  ------    --------------  -----  \n",
      " 0   Price     31 non-null     float64\n",
      " 1   Open      31 non-null     float64\n",
      " 2   High      31 non-null     float64\n",
      " 3   Low       31 non-null     float64\n",
      " 4   Vol.      31 non-null     float64\n",
      " 5   Change %  31 non-null     float64\n",
      "dtypes: float64(6)\n",
      "memory usage: 1.6 KB\n"
     ]
    }
   ],
   "source": [
    "data.info()"
   ]
  },
  {
   "cell_type": "code",
   "execution_count": 261,
   "id": "757ccd8c-28fa-4849-b13b-00797e6a75cd",
   "metadata": {},
   "outputs": [
    {
     "data": {
      "text/html": [
       "<div>\n",
       "<style scoped>\n",
       "    .dataframe tbody tr th:only-of-type {\n",
       "        vertical-align: middle;\n",
       "    }\n",
       "\n",
       "    .dataframe tbody tr th {\n",
       "        vertical-align: top;\n",
       "    }\n",
       "\n",
       "    .dataframe thead th {\n",
       "        text-align: right;\n",
       "    }\n",
       "</style>\n",
       "<table border=\"1\" class=\"dataframe\">\n",
       "  <thead>\n",
       "    <tr style=\"text-align: right;\">\n",
       "      <th></th>\n",
       "      <th>Price</th>\n",
       "      <th>Open</th>\n",
       "      <th>High</th>\n",
       "      <th>Low</th>\n",
       "      <th>Vol.</th>\n",
       "      <th>Change %</th>\n",
       "    </tr>\n",
       "  </thead>\n",
       "  <tbody>\n",
       "    <tr>\n",
       "      <th>Price</th>\n",
       "      <td>1.000000</td>\n",
       "      <td>0.765009</td>\n",
       "      <td>0.862021</td>\n",
       "      <td>0.903700</td>\n",
       "      <td>-0.202784</td>\n",
       "      <td>0.214043</td>\n",
       "    </tr>\n",
       "    <tr>\n",
       "      <th>Open</th>\n",
       "      <td>0.765009</td>\n",
       "      <td>1.000000</td>\n",
       "      <td>0.944331</td>\n",
       "      <td>0.827168</td>\n",
       "      <td>0.026185</td>\n",
       "      <td>-0.464742</td>\n",
       "    </tr>\n",
       "    <tr>\n",
       "      <th>High</th>\n",
       "      <td>0.862021</td>\n",
       "      <td>0.944331</td>\n",
       "      <td>1.000000</td>\n",
       "      <td>0.818386</td>\n",
       "      <td>0.077910</td>\n",
       "      <td>-0.240358</td>\n",
       "    </tr>\n",
       "    <tr>\n",
       "      <th>Low</th>\n",
       "      <td>0.903700</td>\n",
       "      <td>0.827168</td>\n",
       "      <td>0.818386</td>\n",
       "      <td>1.000000</td>\n",
       "      <td>-0.432471</td>\n",
       "      <td>-0.019026</td>\n",
       "    </tr>\n",
       "    <tr>\n",
       "      <th>Vol.</th>\n",
       "      <td>-0.202784</td>\n",
       "      <td>0.026185</td>\n",
       "      <td>0.077910</td>\n",
       "      <td>-0.432471</td>\n",
       "      <td>1.000000</td>\n",
       "      <td>-0.304109</td>\n",
       "    </tr>\n",
       "    <tr>\n",
       "      <th>Change %</th>\n",
       "      <td>0.214043</td>\n",
       "      <td>-0.464742</td>\n",
       "      <td>-0.240358</td>\n",
       "      <td>-0.019026</td>\n",
       "      <td>-0.304109</td>\n",
       "      <td>1.000000</td>\n",
       "    </tr>\n",
       "  </tbody>\n",
       "</table>\n",
       "</div>"
      ],
      "text/plain": [
       "             Price      Open      High       Low      Vol.  Change %\n",
       "Price     1.000000  0.765009  0.862021  0.903700 -0.202784  0.214043\n",
       "Open      0.765009  1.000000  0.944331  0.827168  0.026185 -0.464742\n",
       "High      0.862021  0.944331  1.000000  0.818386  0.077910 -0.240358\n",
       "Low       0.903700  0.827168  0.818386  1.000000 -0.432471 -0.019026\n",
       "Vol.     -0.202784  0.026185  0.077910 -0.432471  1.000000 -0.304109\n",
       "Change %  0.214043 -0.464742 -0.240358 -0.019026 -0.304109  1.000000"
      ]
     },
     "execution_count": 261,
     "metadata": {},
     "output_type": "execute_result"
    }
   ],
   "source": [
    "data.corr()"
   ]
  },
  {
   "cell_type": "code",
   "execution_count": null,
   "id": "2c038e96-75ac-46ec-aecd-da5f04d798be",
   "metadata": {},
   "outputs": [],
   "source": []
  }
 ],
 "metadata": {
  "kernelspec": {
   "display_name": "Python 3 (ipykernel)",
   "language": "python",
   "name": "python3"
  },
  "language_info": {
   "codemirror_mode": {
    "name": "ipython",
    "version": 3
   },
   "file_extension": ".py",
   "mimetype": "text/x-python",
   "name": "python",
   "nbconvert_exporter": "python",
   "pygments_lexer": "ipython3",
   "version": "3.10.12"
  }
 },
 "nbformat": 4,
 "nbformat_minor": 5
}
