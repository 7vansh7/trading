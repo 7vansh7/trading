{
 "cells": [
  {
   "cell_type": "code",
   "execution_count": 1,
   "id": "7b0aa4df-4453-4714-aed5-31a11d89c660",
   "metadata": {},
   "outputs": [],
   "source": [
    "import pandas as pd"
   ]
  },
  {
   "cell_type": "code",
   "execution_count": 2,
   "id": "4e0c212e-2258-4163-9a5c-4af4a8e0a3b2",
   "metadata": {},
   "outputs": [],
   "source": [
    "data = pd.read_csv('data/Nifty 50 Historical Data.csv')"
   ]
  },
  {
   "cell_type": "code",
   "execution_count": 12,
   "id": "ae967aed-7dfa-4b75-8ba0-78a0fff23a61",
   "metadata": {},
   "outputs": [],
   "source": [
    "data['Change %'] = data['Change %'].str.replace('-', '')"
   ]
  },
  {
   "cell_type": "code",
   "execution_count": 14,
   "id": "427c32ed-a2a4-4c88-9f05-dca15fb0e6b5",
   "metadata": {},
   "outputs": [],
   "source": [
    "data['Change %'] = data['Change %'].astype('float')"
   ]
  },
  {
   "cell_type": "code",
   "execution_count": 40,
   "id": "875b5031-bb98-419e-a286-f19f94c1aa64",
   "metadata": {},
   "outputs": [],
   "source": [
    "sum = 0\n",
    "for x in (data['Change %'] > 1):\n",
    "    if x == True:\n",
    "        sum +=1"
   ]
  },
  {
   "cell_type": "code",
   "execution_count": 41,
   "id": "7c143176-0ae7-4d96-ae73-238d9c14a2ae",
   "metadata": {},
   "outputs": [
    {
     "data": {
      "text/plain": [
       "893"
      ]
     },
     "execution_count": 41,
     "metadata": {},
     "output_type": "execute_result"
    }
   ],
   "source": [
    "sum"
   ]
  },
  {
   "cell_type": "code",
   "execution_count": 46,
   "id": "aebf7ff1-22b8-4c49-b3f3-61d38ebd412b",
   "metadata": {},
   "outputs": [],
   "source": [
    "data['Date'] = pd.to_datetime(data['Date'], format=\"%b %d, %Y\")"
   ]
  },
  {
   "cell_type": "code",
   "execution_count": 48,
   "id": "48e9153e-1eee-47f8-9c12-c5f406c31caf",
   "metadata": {},
   "outputs": [
    {
     "data": {
      "text/html": [
       "<div>\n",
       "<style scoped>\n",
       "    .dataframe tbody tr th:only-of-type {\n",
       "        vertical-align: middle;\n",
       "    }\n",
       "\n",
       "    .dataframe tbody tr th {\n",
       "        vertical-align: top;\n",
       "    }\n",
       "\n",
       "    .dataframe thead th {\n",
       "        text-align: right;\n",
       "    }\n",
       "</style>\n",
       "<table border=\"1\" class=\"dataframe\">\n",
       "  <thead>\n",
       "    <tr style=\"text-align: right;\">\n",
       "      <th></th>\n",
       "      <th>Date</th>\n",
       "      <th>Price</th>\n",
       "      <th>Open</th>\n",
       "      <th>High</th>\n",
       "      <th>Low</th>\n",
       "      <th>Vol.</th>\n",
       "      <th>Change %</th>\n",
       "    </tr>\n",
       "  </thead>\n",
       "  <tbody>\n",
       "    <tr>\n",
       "      <th>3549</th>\n",
       "      <td>2010-02-03</td>\n",
       "      <td>4,931.85</td>\n",
       "      <td>4,831.00</td>\n",
       "      <td>4,949.15</td>\n",
       "      <td>4,831.00</td>\n",
       "      <td>163.10B</td>\n",
       "      <td>2.11</td>\n",
       "    </tr>\n",
       "    <tr>\n",
       "      <th>3550</th>\n",
       "      <td>2010-02-02</td>\n",
       "      <td>4,830.10</td>\n",
       "      <td>4,907.85</td>\n",
       "      <td>4,951.15</td>\n",
       "      <td>4,814.10</td>\n",
       "      <td>235.09B</td>\n",
       "      <td>1.42</td>\n",
       "    </tr>\n",
       "    <tr>\n",
       "      <th>3554</th>\n",
       "      <td>2010-01-27</td>\n",
       "      <td>4,853.10</td>\n",
       "      <td>5,008.50</td>\n",
       "      <td>5,008.50</td>\n",
       "      <td>4,833.05</td>\n",
       "      <td>274.77B</td>\n",
       "      <td>3.09</td>\n",
       "    </tr>\n",
       "    <tr>\n",
       "      <th>3556</th>\n",
       "      <td>2010-01-22</td>\n",
       "      <td>5,036.00</td>\n",
       "      <td>5,094.15</td>\n",
       "      <td>5,094.15</td>\n",
       "      <td>4,954.85</td>\n",
       "      <td>270.25B</td>\n",
       "      <td>1.14</td>\n",
       "    </tr>\n",
       "    <tr>\n",
       "      <th>3557</th>\n",
       "      <td>2010-01-21</td>\n",
       "      <td>5,094.15</td>\n",
       "      <td>5,220.20</td>\n",
       "      <td>5,220.35</td>\n",
       "      <td>5,085.45</td>\n",
       "      <td>190.01B</td>\n",
       "      <td>2.44</td>\n",
       "    </tr>\n",
       "  </tbody>\n",
       "</table>\n",
       "</div>"
      ],
      "text/plain": [
       "           Date     Price      Open      High       Low     Vol.  Change %\n",
       "3549 2010-02-03  4,931.85  4,831.00  4,949.15  4,831.00  163.10B      2.11\n",
       "3550 2010-02-02  4,830.10  4,907.85  4,951.15  4,814.10  235.09B      1.42\n",
       "3554 2010-01-27  4,853.10  5,008.50  5,008.50  4,833.05  274.77B      3.09\n",
       "3556 2010-01-22  5,036.00  5,094.15  5,094.15  4,954.85  270.25B      1.14\n",
       "3557 2010-01-21  5,094.15  5,220.20  5,220.35  5,085.45  190.01B      2.44"
      ]
     },
     "execution_count": 48,
     "metadata": {},
     "output_type": "execute_result"
    }
   ],
   "source": [
    "data[data['Change %'] > 1].tail()"
   ]
  },
  {
   "cell_type": "code",
   "execution_count": null,
   "id": "b14b9c4b-b5bc-4855-88d1-ee02cc9f5c33",
   "metadata": {},
   "outputs": [],
   "source": []
  }
 ],
 "metadata": {
  "kernelspec": {
   "display_name": "Python 3 (ipykernel)",
   "language": "python",
   "name": "python3"
  },
  "language_info": {
   "codemirror_mode": {
    "name": "ipython",
    "version": 3
   },
   "file_extension": ".py",
   "mimetype": "text/x-python",
   "name": "python",
   "nbconvert_exporter": "python",
   "pygments_lexer": "ipython3",
   "version": "3.11.5"
  }
 },
 "nbformat": 4,
 "nbformat_minor": 5
}
