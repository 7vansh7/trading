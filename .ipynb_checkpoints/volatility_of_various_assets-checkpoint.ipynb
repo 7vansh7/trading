{
 "cells": [
  {
   "cell_type": "code",
   "execution_count": 136,
   "id": "89feca1e",
   "metadata": {},
   "outputs": [],
   "source": [
    "import numpy as np\n",
    "import pandas as pd\n",
    "import matplotlib.pyplot as plt"
   ]
  },
  {
   "cell_type": "code",
   "execution_count": 102,
   "id": "e7b65e6a",
   "metadata": {},
   "outputs": [
    {
     "data": {
      "text/plain": [
       "Index(['Date ', 'Open ', 'High ', 'Low ', 'Close ', 'Shares Traded ',\n",
       "       'Turnover (₹ Cr)'],\n",
       "      dtype='object')"
      ]
     },
     "execution_count": 102,
     "metadata": {},
     "output_type": "execute_result"
    }
   ],
   "source": [
    "data = pd.read_csv('./NIFTY 50-08-04-2024-to-08-05-2024.csv')"
   ]
  },
  {
   "cell_type": "code",
   "execution_count": 29,
   "id": "852efc9c",
   "metadata": {},
   "outputs": [],
   "source": [
    "change = np.log(data['Close '] / data['Close '].shift(1))"
   ]
  },
  {
   "cell_type": "code",
   "execution_count": 30,
   "id": "ab6a0a25",
   "metadata": {},
   "outputs": [],
   "source": [
    "volatility = change.std()"
   ]
  },
  {
   "cell_type": "code",
   "execution_count": 26,
   "id": "cf17aa60",
   "metadata": {
    "scrolled": true
   },
   "outputs": [
    {
     "data": {
      "text/plain": [
       "0.10524009260930639"
      ]
     },
     "execution_count": 26,
     "metadata": {},
     "output_type": "execute_result"
    }
   ],
   "source": [
    "volatility * np.sqrt(252)"
   ]
  },
  {
   "cell_type": "markdown",
   "id": "ea16abb9",
   "metadata": {},
   "source": [
    "volatility(annual data) = 0.09\n",
    "\n",
    "\n",
    "volatility(previous month data) =0.1"
   ]
  },
  {
   "cell_type": "code",
   "execution_count": 65,
   "id": "7abba6b3",
   "metadata": {
    "scrolled": true
   },
   "outputs": [],
   "source": [
    "def volatility(data,vol_time_frame,column_name):\n",
    "    # file = pd.read_csv(data)\n",
    "    change = np.log(data[column_name] / data[column_name].shift(1))\n",
    "    volatility = change.std()\n",
    "    return volatility * np.sqrt(vol_time_frame)"
   ]
  },
  {
   "cell_type": "code",
   "execution_count": 69,
   "id": "1332c030-1b1a-496d-9267-5010c3de1234",
   "metadata": {},
   "outputs": [],
   "source": [
    "data = pd.read_csv('./Bitcoin Historical Data.csv')\n",
    "data['Price'] = pd.read_csv('./Bitcoin Historical Data.csv')['Price'].str.replace(',','').astype(float)"
   ]
  },
  {
   "cell_type": "code",
   "execution_count": 74,
   "id": "c34772fa-0057-4f0e-b660-d53ad20b9b06",
   "metadata": {
    "scrolled": true
   },
   "outputs": [
    {
     "data": {
      "text/plain": [
       "0.5329418161915599"
      ]
     },
     "execution_count": 74,
     "metadata": {},
     "output_type": "execute_result"
    }
   ],
   "source": [
    "volatility(data,365,'Price')"
   ]
  },
  {
   "cell_type": "code",
   "execution_count": 79,
   "id": "7cd87814-ad6c-47fa-914b-0ba03a4e54a6",
   "metadata": {},
   "outputs": [
    {
     "data": {
      "text/plain": [
       "15.010488861436977"
      ]
     },
     "execution_count": 79,
     "metadata": {},
     "output_type": "execute_result"
    }
   ],
   "source": [
    "((data.iloc[-1]['Price'] - data.iloc[0]['Price'])/data.iloc[0]['Price']) *100"
   ]
  },
  {
   "cell_type": "code",
   "execution_count": 81,
   "id": "2a68aa41-a18d-43ed-a7ce-6c1d9112956c",
   "metadata": {},
   "outputs": [
    {
     "data": {
      "text/plain": [
       "(70011.6, 60874.1)"
      ]
     },
     "execution_count": 81,
     "metadata": {},
     "output_type": "execute_result"
    }
   ],
   "source": [
    "data.iloc[-1]['Price'], data.iloc[0]['Price']"
   ]
  },
  {
   "cell_type": "code",
   "execution_count": 116,
   "id": "54091366-7144-4ae7-ac4f-426a48395d9b",
   "metadata": {},
   "outputs": [],
   "source": [
    "data = pd.read_csv('Bitcoin Historical Data.csv')"
   ]
  },
  {
   "cell_type": "code",
   "execution_count": 117,
   "id": "f1361754-b233-40f3-bfc1-92a130052543",
   "metadata": {},
   "outputs": [
    {
     "data": {
      "text/plain": [
       "Index(['Date', 'Price', 'Open', 'High', 'Low', 'Vol.', 'Change %'], dtype='object')"
      ]
     },
     "execution_count": 117,
     "metadata": {},
     "output_type": "execute_result"
    }
   ],
   "source": []
  },
  {
   "cell_type": "code",
   "execution_count": null,
   "id": "452ef70a-15e1-4cf5-9fbb-e0340193e9d7",
   "metadata": {},
   "outputs": [],
   "source": []
  },
  {
   "cell_type": "code",
   "execution_count": 145,
   "id": "4796fda0-519e-4849-8a95-4924bd47dcf5",
   "metadata": {},
   "outputs": [],
   "source": []
  },
  {
   "cell_type": "code",
   "execution_count": null,
   "id": "757ccd8c-28fa-4849-b13b-00797e6a75cd",
   "metadata": {},
   "outputs": [],
   "source": []
  },
  {
   "cell_type": "code",
   "execution_count": null,
   "id": "2c038e96-75ac-46ec-aecd-da5f04d798be",
   "metadata": {},
   "outputs": [],
   "source": []
  }
 ],
 "metadata": {
  "kernelspec": {
   "display_name": "Python 3 (ipykernel)",
   "language": "python",
   "name": "python3"
  },
  "language_info": {
   "codemirror_mode": {
    "name": "ipython",
    "version": 3
   },
   "file_extension": ".py",
   "mimetype": "text/x-python",
   "name": "python",
   "nbconvert_exporter": "python",
   "pygments_lexer": "ipython3",
   "version": "3.10.12"
  }
 },
 "nbformat": 4,
 "nbformat_minor": 5
}
