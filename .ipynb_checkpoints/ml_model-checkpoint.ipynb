{
 "cells": [
  {
   "cell_type": "code",
   "execution_count": 64,
   "id": "cb674bf1-dd9b-4c06-b90e-dd1a6adb4bca",
   "metadata": {
    "scrolled": true
   },
   "outputs": [],
   "source": [
    "import tensorflow as tf\n",
    "from keras.layers import Dense\n",
    "from keras.models import Sequential\n",
    "from sklearn.ensemble import RandomForestRegressor\n",
    "from sklearn.model_selection import train_test_split\n",
    "import pandas as pd\n",
    "from sklearn.metrics import f1_score,mean_squared_error,r2_score\n",
    "import keras\n",
    "import datetime as dt"
   ]
  },
  {
   "cell_type": "code",
   "execution_count": 3,
   "id": "4f990b2e-599a-4f14-84f9-8cd14eb644d8",
   "metadata": {},
   "outputs": [],
   "source": [
    "data = pd.read_csv('NIFTY 50 - Minute data.csv')"
   ]
  },
  {
   "cell_type": "code",
   "execution_count": 4,
   "id": "1b52ba77-5e28-4639-a6e6-2d3c60d4efbd",
   "metadata": {},
   "outputs": [],
   "source": [
    "data['date'] = pd.to_datetime(data['date'])\n",
    "data['date'] = data['date'].apply(lambda x: x.timestamp())"
   ]
  },
  {
   "cell_type": "code",
   "execution_count": 5,
   "id": "7ec70e4c-11e3-40f9-8cb1-4b32804589a2",
   "metadata": {},
   "outputs": [],
   "source": [
    "train = data.drop(['close','volume','high','low'],axis=1)"
   ]
  },
  {
   "cell_type": "code",
   "execution_count": 6,
   "id": "22734923-761f-4feb-bf5c-ddfa773a0c01",
   "metadata": {},
   "outputs": [],
   "source": [
    "labels = data['close']"
   ]
  },
  {
   "cell_type": "code",
   "execution_count": 7,
   "id": "af3add8c-7201-4697-befb-a20f70f3d2a9",
   "metadata": {},
   "outputs": [],
   "source": [
    "x_train,x_test,y_train,y_test = train_test_split(train,labels)"
   ]
  },
  {
   "cell_type": "code",
   "execution_count": 8,
   "id": "66abe607-0ae8-42a8-a8ca-4adc000e6f9f",
   "metadata": {},
   "outputs": [],
   "source": [
    "regressor = RandomForestRegressor(n_estimators=100,n_jobs=-1,random_state=42)"
   ]
  },
  {
   "cell_type": "code",
   "execution_count": 9,
   "id": "3b064987-5375-4ef8-9454-c0cc04144a3c",
   "metadata": {},
   "outputs": [],
   "source": [
    "regressor1 = regressor.fit(x_train,y_train)"
   ]
  },
  {
   "cell_type": "code",
   "execution_count": 10,
   "id": "a6272263-b8d6-4c53-aa0b-80d792225808",
   "metadata": {},
   "outputs": [],
   "source": [
    "pred1 = regressor1.predict(x_test)"
   ]
  },
  {
   "cell_type": "code",
   "execution_count": 11,
   "id": "e98084f5-4554-472d-b36f-e1a925befb30",
   "metadata": {},
   "outputs": [],
   "source": [
    "mse = mean_squared_error(y_test,pred1)"
   ]
  },
  {
   "cell_type": "code",
   "execution_count": 12,
   "id": "e84b502b-db60-4c52-8e77-291dd47579b1",
   "metadata": {},
   "outputs": [
    {
     "data": {
      "text/plain": [
       "27.48884448772892"
      ]
     },
     "execution_count": 12,
     "metadata": {},
     "output_type": "execute_result"
    }
   ],
   "source": [
    "mse"
   ]
  },
  {
   "cell_type": "code",
   "execution_count": 13,
   "id": "663509e3-dd5a-4111-a0f5-bd5efc8e1a9f",
   "metadata": {},
   "outputs": [],
   "source": [
    "def normalization(data,col_arr):\n",
    "    for x in col_arr:\n",
    "        mean = data[x].mean()\n",
    "        data[x] -= mean\n",
    "        std = data[x].std()\n",
    "        data[x] /= std\n",
    "    return data\n",
    "    "
   ]
  },
  {
   "cell_type": "code",
   "execution_count": 14,
   "id": "b6218216-f41c-4815-9614-b8db21a10b7a",
   "metadata": {},
   "outputs": [],
   "source": [
    "def normalization_S(data):\n",
    "    mean = data.mean()\n",
    "    data -= mean\n",
    "    std = data.std()\n",
    "    data /= std\n",
    "    return data"
   ]
  },
  {
   "cell_type": "code",
   "execution_count": 15,
   "id": "47a878d9-ec5b-4ed3-b979-0e95d3c073fd",
   "metadata": {},
   "outputs": [],
   "source": [
    "col = ['date','open']\n",
    "x_train= normalization(x_train,col)\n",
    "x_test = normalization(x_test,col)\n",
    "y_train = normalization_S(y_train)\n",
    "y_test = normalization_S(y_test)"
   ]
  },
  {
   "cell_type": "code",
   "execution_count": 16,
   "id": "a46438c8-9b86-4268-a03d-36a7d52a5f32",
   "metadata": {},
   "outputs": [],
   "source": [
    "callbacks = [keras.callbacks.EarlyStopping(monitor='mse',patience=3)]"
   ]
  },
  {
   "cell_type": "code",
   "execution_count": 17,
   "id": "93ac339b-c5ef-42c6-9741-5df3a7876a01",
   "metadata": {},
   "outputs": [
    {
     "name": "stderr",
     "output_type": "stream",
     "text": [
      "/Users/vanshaggarwal/miniforge3/lib/python3.10/site-packages/keras/src/layers/core/dense.py:87: UserWarning: Do not pass an `input_shape`/`input_dim` argument to a layer. When using Sequential models, prefer using an `Input(shape)` object as the first layer in the model instead.\n",
      "  super().__init__(activity_regularizer=activity_regularizer, **kwargs)\n"
     ]
    },
    {
     "name": "stdout",
     "output_type": "stream",
     "text": [
      "Epoch 1/50\n",
      "\u001b[1m19612/19612\u001b[0m \u001b[32m━━━━━━━━━━━━━━━━━━━━\u001b[0m\u001b[37m\u001b[0m \u001b[1m5s\u001b[0m 248us/step - loss: 0.0034 - mse: 0.0034\n",
      "Epoch 2/50\n",
      "\u001b[1m19612/19612\u001b[0m \u001b[32m━━━━━━━━━━━━━━━━━━━━\u001b[0m\u001b[37m\u001b[0m \u001b[1m5s\u001b[0m 244us/step - loss: 8.9018e-06 - mse: 8.9018e-06\n",
      "Epoch 3/50\n",
      "\u001b[1m19612/19612\u001b[0m \u001b[32m━━━━━━━━━━━━━━━━━━━━\u001b[0m\u001b[37m\u001b[0m \u001b[1m5s\u001b[0m 254us/step - loss: 6.9747e-06 - mse: 6.9747e-06\n",
      "Epoch 4/50\n",
      "\u001b[1m19612/19612\u001b[0m \u001b[32m━━━━━━━━━━━━━━━━━━━━\u001b[0m\u001b[37m\u001b[0m \u001b[1m5s\u001b[0m 247us/step - loss: 6.3861e-06 - mse: 6.3861e-06\n",
      "Epoch 5/50\n",
      "\u001b[1m19612/19612\u001b[0m \u001b[32m━━━━━━━━━━━━━━━━━━━━\u001b[0m\u001b[37m\u001b[0m \u001b[1m5s\u001b[0m 259us/step - loss: 5.3377e-06 - mse: 5.3377e-06\n",
      "Epoch 6/50\n",
      "\u001b[1m19612/19612\u001b[0m \u001b[32m━━━━━━━━━━━━━━━━━━━━\u001b[0m\u001b[37m\u001b[0m \u001b[1m5s\u001b[0m 239us/step - loss: 5.0283e-06 - mse: 5.0283e-06\n",
      "Epoch 7/50\n",
      "\u001b[1m19612/19612\u001b[0m \u001b[32m━━━━━━━━━━━━━━━━━━━━\u001b[0m\u001b[37m\u001b[0m \u001b[1m4s\u001b[0m 228us/step - loss: 4.6837e-06 - mse: 4.6837e-06\n",
      "Epoch 8/50\n",
      "\u001b[1m19612/19612\u001b[0m \u001b[32m━━━━━━━━━━━━━━━━━━━━\u001b[0m\u001b[37m\u001b[0m \u001b[1m5s\u001b[0m 242us/step - loss: 4.5726e-06 - mse: 4.5726e-06\n",
      "Epoch 9/50\n",
      "\u001b[1m19612/19612\u001b[0m \u001b[32m━━━━━━━━━━━━━━━━━━━━\u001b[0m\u001b[37m\u001b[0m \u001b[1m5s\u001b[0m 251us/step - loss: 4.1083e-06 - mse: 4.1083e-06\n",
      "Epoch 10/50\n",
      "\u001b[1m19612/19612\u001b[0m \u001b[32m━━━━━━━━━━━━━━━━━━━━\u001b[0m\u001b[37m\u001b[0m \u001b[1m5s\u001b[0m 246us/step - loss: 4.0400e-06 - mse: 4.0400e-06\n",
      "Epoch 11/50\n",
      "\u001b[1m19612/19612\u001b[0m \u001b[32m━━━━━━━━━━━━━━━━━━━━\u001b[0m\u001b[37m\u001b[0m \u001b[1m5s\u001b[0m 246us/step - loss: 4.0011e-06 - mse: 4.0011e-06\n",
      "Epoch 12/50\n",
      "\u001b[1m19612/19612\u001b[0m \u001b[32m━━━━━━━━━━━━━━━━━━━━\u001b[0m\u001b[37m\u001b[0m \u001b[1m5s\u001b[0m 254us/step - loss: 3.9976e-06 - mse: 3.9976e-06\n",
      "Epoch 13/50\n",
      "\u001b[1m19612/19612\u001b[0m \u001b[32m━━━━━━━━━━━━━━━━━━━━\u001b[0m\u001b[37m\u001b[0m \u001b[1m5s\u001b[0m 245us/step - loss: 3.7544e-06 - mse: 3.7544e-06\n",
      "Epoch 14/50\n",
      "\u001b[1m19612/19612\u001b[0m \u001b[32m━━━━━━━━━━━━━━━━━━━━\u001b[0m\u001b[37m\u001b[0m \u001b[1m5s\u001b[0m 248us/step - loss: 3.6436e-06 - mse: 3.6436e-06\n",
      "Epoch 15/50\n",
      "\u001b[1m19612/19612\u001b[0m \u001b[32m━━━━━━━━━━━━━━━━━━━━\u001b[0m\u001b[37m\u001b[0m \u001b[1m5s\u001b[0m 248us/step - loss: 3.5758e-06 - mse: 3.5758e-06\n",
      "Epoch 16/50\n",
      "\u001b[1m19612/19612\u001b[0m \u001b[32m━━━━━━━━━━━━━━━━━━━━\u001b[0m\u001b[37m\u001b[0m \u001b[1m5s\u001b[0m 254us/step - loss: 3.4609e-06 - mse: 3.4609e-06\n",
      "Epoch 17/50\n",
      "\u001b[1m19612/19612\u001b[0m \u001b[32m━━━━━━━━━━━━━━━━━━━━\u001b[0m\u001b[37m\u001b[0m \u001b[1m5s\u001b[0m 258us/step - loss: 3.5775e-06 - mse: 3.5775e-06\n",
      "Epoch 18/50\n",
      "\u001b[1m19612/19612\u001b[0m \u001b[32m━━━━━━━━━━━━━━━━━━━━\u001b[0m\u001b[37m\u001b[0m \u001b[1m5s\u001b[0m 257us/step - loss: 3.4740e-06 - mse: 3.4740e-06\n",
      "Epoch 19/50\n",
      "\u001b[1m19612/19612\u001b[0m \u001b[32m━━━━━━━━━━━━━━━━━━━━\u001b[0m\u001b[37m\u001b[0m \u001b[1m5s\u001b[0m 247us/step - loss: 3.5737e-06 - mse: 3.5737e-06\n",
      "Epoch 20/50\n",
      "\u001b[1m19612/19612\u001b[0m \u001b[32m━━━━━━━━━━━━━━━━━━━━\u001b[0m\u001b[37m\u001b[0m \u001b[1m5s\u001b[0m 246us/step - loss: 3.3498e-06 - mse: 3.3498e-06\n",
      "Epoch 21/50\n",
      "\u001b[1m19612/19612\u001b[0m \u001b[32m━━━━━━━━━━━━━━━━━━━━\u001b[0m\u001b[37m\u001b[0m \u001b[1m5s\u001b[0m 250us/step - loss: 3.3363e-06 - mse: 3.3363e-06\n",
      "Epoch 22/50\n",
      "\u001b[1m19612/19612\u001b[0m \u001b[32m━━━━━━━━━━━━━━━━━━━━\u001b[0m\u001b[37m\u001b[0m \u001b[1m5s\u001b[0m 245us/step - loss: 3.2991e-06 - mse: 3.2991e-06\n",
      "Epoch 23/50\n",
      "\u001b[1m19612/19612\u001b[0m \u001b[32m━━━━━━━━━━━━━━━━━━━━\u001b[0m\u001b[37m\u001b[0m \u001b[1m5s\u001b[0m 263us/step - loss: 3.5741e-06 - mse: 3.5741e-06\n",
      "Epoch 24/50\n",
      "\u001b[1m19612/19612\u001b[0m \u001b[32m━━━━━━━━━━━━━━━━━━━━\u001b[0m\u001b[37m\u001b[0m \u001b[1m5s\u001b[0m 259us/step - loss: 3.2714e-06 - mse: 3.2714e-06\n",
      "Epoch 25/50\n",
      "\u001b[1m19612/19612\u001b[0m \u001b[32m━━━━━━━━━━━━━━━━━━━━\u001b[0m\u001b[37m\u001b[0m \u001b[1m5s\u001b[0m 250us/step - loss: 3.2613e-06 - mse: 3.2613e-06\n",
      "Epoch 26/50\n",
      "\u001b[1m19612/19612\u001b[0m \u001b[32m━━━━━━━━━━━━━━━━━━━━\u001b[0m\u001b[37m\u001b[0m \u001b[1m5s\u001b[0m 245us/step - loss: 3.2845e-06 - mse: 3.2845e-06\n",
      "Epoch 27/50\n",
      "\u001b[1m19612/19612\u001b[0m \u001b[32m━━━━━━━━━━━━━━━━━━━━\u001b[0m\u001b[37m\u001b[0m \u001b[1m5s\u001b[0m 251us/step - loss: 3.3030e-06 - mse: 3.3030e-06\n"
     ]
    }
   ],
   "source": [
    "model1 = Sequential()\n",
    "model1.add(Dense(32, activation='relu', input_shape=(2,)))\n",
    "model1.add(Dense(64, activation='relu'))\n",
    "model1.add(Dense(1))\n",
    "\n",
    "model1.compile(optimizer='adam',loss='mse',metrics=['mse'])\n",
    "history = model1.fit(x_train,y_train,epochs=50,callbacks=callbacks)"
   ]
  },
  {
   "cell_type": "code",
   "execution_count": 18,
   "id": "1687c4be-fbc6-4a95-a983-09dfa8f59e4b",
   "metadata": {},
   "outputs": [
    {
     "name": "stdout",
     "output_type": "stream",
     "text": [
      "\u001b[1m6538/6538\u001b[0m \u001b[32m━━━━━━━━━━━━━━━━━━━━\u001b[0m\u001b[37m\u001b[0m \u001b[1m1s\u001b[0m 200us/step\n"
     ]
    }
   ],
   "source": [
    "pred = model1.predict(x_test)"
   ]
  },
  {
   "cell_type": "code",
   "execution_count": 20,
   "id": "9aaa0dd9-8291-46f9-9520-4d41d399f4f4",
   "metadata": {},
   "outputs": [],
   "source": [
    "accuracy = r2_score(y_test,pred)"
   ]
  },
  {
   "cell_type": "code",
   "execution_count": 21,
   "id": "ac5236fe-725c-4ab6-9187-6345d7e9f1b6",
   "metadata": {},
   "outputs": [
    {
     "data": {
      "text/plain": [
       "0.999988357766846"
      ]
     },
     "execution_count": 21,
     "metadata": {},
     "output_type": "execute_result"
    }
   ],
   "source": [
    "accuracy"
   ]
  },
  {
   "cell_type": "code",
   "execution_count": 78,
   "id": "3461c626-206d-444e-bbd6-7aacfe7e2e9d",
   "metadata": {},
   "outputs": [],
   "source": [
    "timestamp = dt.datetime.now().timestamp()\n",
    "today_close_dt = dt.datetime(2024, 5, 24, 15, 15,00).timestamp()"
   ]
  },
  {
   "cell_type": "code",
   "execution_count": 80,
   "id": "9a5e7545-043b-4a4b-8119-274fa22aac6f",
   "metadata": {},
   "outputs": [],
   "source": [
    "final_test_x = pd.DataFrame({\n",
    "    'date': [today_close_dt],\n",
    "    'open': [22930]\n",
    "})"
   ]
  },
  {
   "cell_type": "code",
   "execution_count": 82,
   "id": "d0e2df2f-e2f3-4d49-a2ba-ce4823df89cf",
   "metadata": {},
   "outputs": [],
   "source": [
    "mean =data['open'].mean()\n",
    "std = data['open'].std()\n",
    "mean2 = data['date'].mean()\n",
    "std2 = data['date'].std()"
   ]
  },
  {
   "cell_type": "code",
   "execution_count": 83,
   "id": "ce6227f6-02a4-4e33-9092-1769d349d990",
   "metadata": {},
   "outputs": [],
   "source": [
    "final_test_x['open'] -= mean\n",
    "final_test_x['open'] /= std\n",
    "final_test_x['date'] -= mean2\n",
    "final_test_x['date'] /= std2"
   ]
  },
  {
   "cell_type": "code",
   "execution_count": 84,
   "id": "1f31b69b-924f-4f76-af4a-07d6dee6c5ad",
   "metadata": {},
   "outputs": [
    {
     "name": "stdout",
     "output_type": "stream",
     "text": [
      "\u001b[1m1/1\u001b[0m \u001b[32m━━━━━━━━━━━━━━━━━━━━\u001b[0m\u001b[37m\u001b[0m \u001b[1m0s\u001b[0m 69ms/step\n"
     ]
    },
    {
     "data": {
      "text/plain": [
       "array([[2.6676073]], dtype=float32)"
      ]
     },
     "execution_count": 84,
     "metadata": {},
     "output_type": "execute_result"
    }
   ],
   "source": [
    "ans = model1.predict(final_test_x)"
   ]
  },
  {
   "cell_type": "code",
   "execution_count": 86,
   "id": "9d22e076-0ffb-4e2c-bc33-d1d1b0147fc0",
   "metadata": {},
   "outputs": [
    {
     "data": {
      "text/plain": [
       "array([[ 9589.292 ],\n",
       "       [11488.1045],\n",
       "       [12136.093 ],\n",
       "       ...,\n",
       "       [10983.008 ],\n",
       "       [15779.277 ],\n",
       "       [21720.082 ]], dtype=float32)"
      ]
     },
     "execution_count": 86,
     "metadata": {},
     "output_type": "execute_result"
    }
   ],
   "source": [
    "(pred * std)+ mean"
   ]
  },
  {
   "cell_type": "code",
   "execution_count": 88,
   "id": "aac8d50e-6f22-4e00-9dc2-eefdd6566a1c",
   "metadata": {},
   "outputs": [
    {
     "data": {
      "text/plain": [
       "224929     9585.135564\n",
       "332014    11485.651456\n",
       "469848    12134.492107\n",
       "377612    10979.785028\n",
       "786953    19493.909996\n",
       "              ...     \n",
       "746659    17837.491551\n",
       "732188    18521.424965\n",
       "326541    10977.632405\n",
       "596346    15766.217581\n",
       "831535    21683.478115\n",
       "Name: close, Length: 209190, dtype: float64"
      ]
     },
     "execution_count": 88,
     "metadata": {},
     "output_type": "execute_result"
    }
   ],
   "source": [
    "(y_test * std) + mean"
   ]
  },
  {
   "cell_type": "code",
   "execution_count": 90,
   "id": "5e243c11-f6db-4e52-81f8-50f431aa7309",
   "metadata": {},
   "outputs": [
    {
     "data": {
      "text/html": [
       "<div>\n",
       "<style scoped>\n",
       "    .dataframe tbody tr th:only-of-type {\n",
       "        vertical-align: middle;\n",
       "    }\n",
       "\n",
       "    .dataframe tbody tr th {\n",
       "        vertical-align: top;\n",
       "    }\n",
       "\n",
       "    .dataframe thead th {\n",
       "        text-align: right;\n",
       "    }\n",
       "</style>\n",
       "<table border=\"1\" class=\"dataframe\">\n",
       "  <thead>\n",
       "    <tr style=\"text-align: right;\">\n",
       "      <th></th>\n",
       "      <th>date</th>\n",
       "      <th>open</th>\n",
       "    </tr>\n",
       "  </thead>\n",
       "  <tbody>\n",
       "    <tr>\n",
       "      <th>0</th>\n",
       "      <td>1.85416</td>\n",
       "      <td>2.659024</td>\n",
       "    </tr>\n",
       "  </tbody>\n",
       "</table>\n",
       "</div>"
      ],
      "text/plain": [
       "      date      open\n",
       "0  1.85416  2.659024"
      ]
     },
     "execution_count": 90,
     "metadata": {},
     "output_type": "execute_result"
    }
   ],
   "source": [
    "final_test_x"
   ]
  },
  {
   "cell_type": "code",
   "execution_count": 93,
   "id": "5764936c-c3f1-4eaa-ab72-14541b5bbf68",
   "metadata": {},
   "outputs": [
    {
     "data": {
      "text/plain": [
       "21436.047939116695"
      ]
     },
     "execution_count": 93,
     "metadata": {},
     "output_type": "execute_result"
    }
   ],
   "source": [
    "abs(-2.279072 * std)+ mean"
   ]
  },
  {
   "cell_type": "code",
   "execution_count": null,
   "id": "2907c4e1-d0f8-4f85-bf81-3b6ebbcee7c3",
   "metadata": {},
   "outputs": [],
   "source": []
  },
  {
   "cell_type": "code",
   "execution_count": 72,
   "id": "e1d89975-d828-444d-9723-36ff986f1a2e",
   "metadata": {},
   "outputs": [
    {
     "name": "stdout",
     "output_type": "stream",
     "text": [
      "2024-05-24 22:57:17.995344\n"
     ]
    }
   ],
   "source": [
    "# print(dt.datetime.fromtimestamp(timestamp))"
   ]
  },
  {
   "cell_type": "code",
   "execution_count": null,
   "id": "d5453ba5-675b-4620-a29f-e9183fedfc77",
   "metadata": {},
   "outputs": [],
   "source": []
  },
  {
   "cell_type": "code",
   "execution_count": null,
   "id": "60bed0c1-c87b-4025-8cf0-1074534f355e",
   "metadata": {},
   "outputs": [],
   "source": []
  }
 ],
 "metadata": {
  "kernelspec": {
   "display_name": "Python 3 (ipykernel)",
   "language": "python",
   "name": "python3"
  },
  "language_info": {
   "codemirror_mode": {
    "name": "ipython",
    "version": 3
   },
   "file_extension": ".py",
   "mimetype": "text/x-python",
   "name": "python",
   "nbconvert_exporter": "python",
   "pygments_lexer": "ipython3",
   "version": "3.10.12"
  }
 },
 "nbformat": 4,
 "nbformat_minor": 5
}
